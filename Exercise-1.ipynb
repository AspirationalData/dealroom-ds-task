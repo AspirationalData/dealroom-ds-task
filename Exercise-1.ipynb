{
 "metadata": {
  "language_info": {
   "codemirror_mode": {
    "name": "ipython",
    "version": 3
   },
   "file_extension": ".py",
   "mimetype": "text/x-python",
   "name": "python",
   "nbconvert_exporter": "python",
   "pygments_lexer": "ipython3",
   "version": "3.8.10"
  },
  "orig_nbformat": 4,
  "kernelspec": {
   "name": "python3",
   "display_name": "Python 3.8.10 64-bit ('data': conda)"
  },
  "interpreter": {
   "hash": "ffbe1cd9c4cb7fbb753ad3c0c99e9c3042941f89fe87f3689b12c796676d2626"
  }
 },
 "nbformat": 4,
 "nbformat_minor": 2,
 "cells": [
  {
   "cell_type": "markdown",
   "source": [
    "## Exercise 1: G2 Scraper."
   ],
   "metadata": {}
  },
  {
   "cell_type": "code",
   "execution_count": 40,
   "source": [
    "import pandas as pd\n",
    "from lxml import html\n",
    "import requests\n",
    "from bs4 import BeautifulSoup\n",
    "\n"
   ],
   "outputs": [],
   "metadata": {}
  },
  {
   "cell_type": "code",
   "execution_count": 8,
   "source": [
    "df = pd.read_csv('data/data_scientist_intern_g2_scraper.csv')\n",
    "df"
   ],
   "outputs": [
    {
     "output_type": "execute_result",
     "data": {
      "text/plain": [
       "           id                          NAME                      WEBSITE  \\\n",
       "0     1773270  Matera (formerly illiCopros)       https://www.matera.eu/   \n",
       "1     1659999                         Shift        https://shift.online/   \n",
       "2     1617238                MILES Mobility  https://miles-mobility.com/   \n",
       "3     1519744                      Doktor24          https://doktor24.se   \n",
       "4      975908                      Forecast     https://www.forecast.app   \n",
       "...       ...                           ...                          ...   \n",
       "1345  1482042                         Dazzl              http://dazzl.tv   \n",
       "1346  1471189                      LingRoom       http://www.lingroom.pl   \n",
       "1347  1737884               HOTLINE.FINANCE  https://www.hotline.finance   \n",
       "1348  1567564                         FONDY  https://www.fondy.eu/en-cz/   \n",
       "1349  1248652                        Voxist       http://www.voxist.com/   \n",
       "\n",
       "                                                TAGLINE  \\\n",
       "0     Allows residential property owners to self-man...   \n",
       "1                      Move Anything, Anywhere, Anytime   \n",
       "2         An independent carsharing and modern mobility   \n",
       "3     Leading the digitalization of Swedish primary ...   \n",
       "4     AI-powered resource & project management platform   \n",
       "...                                                 ...   \n",
       "1345  Next Generation Video News Network to Content ...   \n",
       "1346  LingRoom.pl - Find Best Language Tutors for In...   \n",
       "1347                     Financial products marketplace   \n",
       "1348  Payment Platform for Online business. FONDY is...   \n",
       "1349  Thanks to the latest innovations in AI, Voxist...   \n",
       "\n",
       "                                                ADDRESS             INDUSTRIES  \n",
       "0            12 Rue du 4 septembre, 75002 Paris, France            real estate  \n",
       "1            40 Islington High St, Islington, London N1  travel;transportation  \n",
       "2               Leibnizstraße 49, 10629 Berlin, Germany         transportation  \n",
       "3                  Birger Jarlsgatan, Stockholm, Sweden                 health  \n",
       "4       20, Frederiksborggade, 1360 Copenhagen, Denmark    enterprise software  \n",
       "...                                                 ...                    ...  \n",
       "1345  22 Rue de la Rigourdière, 35510 Cesson-Sévigné...           sports;media  \n",
       "1346           181, Aleje Jerozolimskie, Warsaw, Poland              education  \n",
       "1347         Starokyivska St, 10Г, Kyiv, Ukraine, 04116                fintech  \n",
       "1348  St Martins House, 16 St Martin's Le Grand, Lon...                fintech  \n",
       "1349                 48 Rue Meslay, 75003 Paris, France                telecom  \n",
       "\n",
       "[1350 rows x 6 columns]"
      ],
      "text/html": [
       "<div>\n",
       "<style scoped>\n",
       "    .dataframe tbody tr th:only-of-type {\n",
       "        vertical-align: middle;\n",
       "    }\n",
       "\n",
       "    .dataframe tbody tr th {\n",
       "        vertical-align: top;\n",
       "    }\n",
       "\n",
       "    .dataframe thead th {\n",
       "        text-align: right;\n",
       "    }\n",
       "</style>\n",
       "<table border=\"1\" class=\"dataframe\">\n",
       "  <thead>\n",
       "    <tr style=\"text-align: right;\">\n",
       "      <th></th>\n",
       "      <th>id</th>\n",
       "      <th>NAME</th>\n",
       "      <th>WEBSITE</th>\n",
       "      <th>TAGLINE</th>\n",
       "      <th>ADDRESS</th>\n",
       "      <th>INDUSTRIES</th>\n",
       "    </tr>\n",
       "  </thead>\n",
       "  <tbody>\n",
       "    <tr>\n",
       "      <th>0</th>\n",
       "      <td>1773270</td>\n",
       "      <td>Matera (formerly illiCopros)</td>\n",
       "      <td>https://www.matera.eu/</td>\n",
       "      <td>Allows residential property owners to self-man...</td>\n",
       "      <td>12 Rue du 4 septembre, 75002 Paris, France</td>\n",
       "      <td>real estate</td>\n",
       "    </tr>\n",
       "    <tr>\n",
       "      <th>1</th>\n",
       "      <td>1659999</td>\n",
       "      <td>Shift</td>\n",
       "      <td>https://shift.online/</td>\n",
       "      <td>Move Anything, Anywhere, Anytime</td>\n",
       "      <td>40 Islington High St, Islington, London N1</td>\n",
       "      <td>travel;transportation</td>\n",
       "    </tr>\n",
       "    <tr>\n",
       "      <th>2</th>\n",
       "      <td>1617238</td>\n",
       "      <td>MILES Mobility</td>\n",
       "      <td>https://miles-mobility.com/</td>\n",
       "      <td>An independent carsharing and modern mobility</td>\n",
       "      <td>Leibnizstraße 49, 10629 Berlin, Germany</td>\n",
       "      <td>transportation</td>\n",
       "    </tr>\n",
       "    <tr>\n",
       "      <th>3</th>\n",
       "      <td>1519744</td>\n",
       "      <td>Doktor24</td>\n",
       "      <td>https://doktor24.se</td>\n",
       "      <td>Leading the digitalization of Swedish primary ...</td>\n",
       "      <td>Birger Jarlsgatan, Stockholm, Sweden</td>\n",
       "      <td>health</td>\n",
       "    </tr>\n",
       "    <tr>\n",
       "      <th>4</th>\n",
       "      <td>975908</td>\n",
       "      <td>Forecast</td>\n",
       "      <td>https://www.forecast.app</td>\n",
       "      <td>AI-powered resource &amp; project management platform</td>\n",
       "      <td>20, Frederiksborggade, 1360 Copenhagen, Denmark</td>\n",
       "      <td>enterprise software</td>\n",
       "    </tr>\n",
       "    <tr>\n",
       "      <th>...</th>\n",
       "      <td>...</td>\n",
       "      <td>...</td>\n",
       "      <td>...</td>\n",
       "      <td>...</td>\n",
       "      <td>...</td>\n",
       "      <td>...</td>\n",
       "    </tr>\n",
       "    <tr>\n",
       "      <th>1345</th>\n",
       "      <td>1482042</td>\n",
       "      <td>Dazzl</td>\n",
       "      <td>http://dazzl.tv</td>\n",
       "      <td>Next Generation Video News Network to Content ...</td>\n",
       "      <td>22 Rue de la Rigourdière, 35510 Cesson-Sévigné...</td>\n",
       "      <td>sports;media</td>\n",
       "    </tr>\n",
       "    <tr>\n",
       "      <th>1346</th>\n",
       "      <td>1471189</td>\n",
       "      <td>LingRoom</td>\n",
       "      <td>http://www.lingroom.pl</td>\n",
       "      <td>LingRoom.pl - Find Best Language Tutors for In...</td>\n",
       "      <td>181, Aleje Jerozolimskie, Warsaw, Poland</td>\n",
       "      <td>education</td>\n",
       "    </tr>\n",
       "    <tr>\n",
       "      <th>1347</th>\n",
       "      <td>1737884</td>\n",
       "      <td>HOTLINE.FINANCE</td>\n",
       "      <td>https://www.hotline.finance</td>\n",
       "      <td>Financial products marketplace</td>\n",
       "      <td>Starokyivska St, 10Г, Kyiv, Ukraine, 04116</td>\n",
       "      <td>fintech</td>\n",
       "    </tr>\n",
       "    <tr>\n",
       "      <th>1348</th>\n",
       "      <td>1567564</td>\n",
       "      <td>FONDY</td>\n",
       "      <td>https://www.fondy.eu/en-cz/</td>\n",
       "      <td>Payment Platform for Online business. FONDY is...</td>\n",
       "      <td>St Martins House, 16 St Martin's Le Grand, Lon...</td>\n",
       "      <td>fintech</td>\n",
       "    </tr>\n",
       "    <tr>\n",
       "      <th>1349</th>\n",
       "      <td>1248652</td>\n",
       "      <td>Voxist</td>\n",
       "      <td>http://www.voxist.com/</td>\n",
       "      <td>Thanks to the latest innovations in AI, Voxist...</td>\n",
       "      <td>48 Rue Meslay, 75003 Paris, France</td>\n",
       "      <td>telecom</td>\n",
       "    </tr>\n",
       "  </tbody>\n",
       "</table>\n",
       "<p>1350 rows × 6 columns</p>\n",
       "</div>"
      ]
     },
     "metadata": {},
     "execution_count": 8
    }
   ],
   "metadata": {}
  },
  {
   "cell_type": "code",
   "execution_count": null,
   "source": [
    "final_df = df.copy()"
   ],
   "outputs": [],
   "metadata": {}
  },
  {
   "cell_type": "code",
   "execution_count": 36,
   "source": [
    "# for index, row in final_df.iterrows():\n",
    "#     pprint.pprint(row[1])\n"
   ],
   "outputs": [],
   "metadata": {
    "tags": []
   }
  },
  {
   "cell_type": "code",
   "execution_count": 37,
   "source": [
    "# for index, row in final_df.iterrows():\n",
    "#     print(row[0])"
   ],
   "outputs": [],
   "metadata": {}
  },
  {
   "cell_type": "code",
   "execution_count": null,
   "source": [],
   "outputs": [],
   "metadata": {}
  },
  {
   "cell_type": "code",
   "execution_count": 22,
   "source": [
    "# We want to start building a dictionary with the features we need, so we create an empty dictionary.\n",
    "scraped_vars = dict()\n",
    "\n",
    "# We will use an array in the value field in the dicionary: the key will be a new column name (feature) and the value will be an array containing the data for each row.\n",
    "\n"
   ],
   "outputs": [
    {
     "output_type": "execute_result",
     "data": {
      "text/plain": [
       "dict"
      ]
     },
     "metadata": {},
     "execution_count": 22
    }
   ],
   "metadata": {}
  },
  {
   "cell_type": "code",
   "execution_count": 50,
   "source": [
    "headers = {\n",
    "    'User-Agent' : 'Mozilla/5.0 (Windows NT 10.0; Win64; x64) AppleWebKit/537.36 (KHTML, like Gecko) Chrome/42.0.2311.135 Safari/537.36 Edge/12.246'\n",
    "}\n",
    "page = requests.get('https://www.g2.com/products/trello/reviews', headers=headers)\n",
    "tree = html.fromstring(page.content)\n",
    "website = tree.xpath('//*[@id=\"leads-sticky-top\"]/div/div[1]/div[3]/div[1]/div[2]/div[2]/div[1]/div[1]/div/div/a')\n",
    "print(page)\n"
   ],
   "outputs": [
    {
     "output_type": "stream",
     "name": "stdout",
     "text": [
      "<Response [403]>\n"
     ]
    }
   ],
   "metadata": {}
  },
  {
   "cell_type": "code",
   "execution_count": 56,
   "source": [
    "headers = {\n",
    "    'User-Agent' : 'Mozilla/5.0'\n",
    "}\n",
    "\n",
    "requests.get('https://www.g2.com', headers=headers)"
   ],
   "outputs": [
    {
     "output_type": "execute_result",
     "data": {
      "text/plain": [
       "<Response [403]>"
      ]
     },
     "metadata": {},
     "execution_count": 56
    }
   ],
   "metadata": {}
  },
  {
   "cell_type": "code",
   "execution_count": 51,
   "source": [
    "requests.get('https://google.com')"
   ],
   "outputs": [
    {
     "output_type": "execute_result",
     "data": {
      "text/plain": [
       "<Response [200]>"
      ]
     },
     "metadata": {},
     "execution_count": 51
    }
   ],
   "metadata": {}
  },
  {
   "cell_type": "code",
   "execution_count": 52,
   "source": [
    "requests.get('https://g2.com')"
   ],
   "outputs": [
    {
     "output_type": "execute_result",
     "data": {
      "text/plain": [
       "<Response [403]>"
      ]
     },
     "metadata": {},
     "execution_count": 52
    }
   ],
   "metadata": {}
  },
  {
   "cell_type": "code",
   "execution_count": 53,
   "source": [
    "requests.get('https://www.finoa.io/')"
   ],
   "outputs": [
    {
     "output_type": "execute_result",
     "data": {
      "text/plain": [
       "<Response [200]>"
      ]
     },
     "metadata": {},
     "execution_count": 53
    }
   ],
   "metadata": {}
  },
  {
   "cell_type": "code",
   "execution_count": 55,
   "source": [
    "from bs4 import BeautifulSoup\n",
    "import requests\n",
    "\n",
    "url = \"https://www.g2.com/products/google-drive/reviews\"\n",
    "req = requests.get(url, headers={'User-Agent': 'Mozilla/5.0'})\n",
    "html = req.text\n",
    "\n",
    "parsed_html = BeautifulSoup(html, features=\"lxml\")\n",
    "print(parsed_html)"
   ],
   "outputs": [
    {
     "output_type": "stream",
     "name": "stdout",
     "text": [
      "<!DOCTYPE html>\n",
      "<!--[if lt IE 7]> <html class=\"no-js ie6 oldie\" lang=\"en-US\"> <![endif]--><!--[if IE 7]>    <html class=\"no-js ie7 oldie\" lang=\"en-US\"> <![endif]--><!--[if IE 8]>    <html class=\"no-js ie8 oldie\" lang=\"en-US\"> <![endif]--><!--[if gt IE 8]><!--><html class=\"no-js\" lang=\"en-US\"> <!--<![endif]-->\n",
      "<head>\n",
      "<title>Access denied | www.g2.com used Cloudflare to restrict access</title>\n",
      "<meta charset=\"utf-8\"/>\n",
      "<meta content=\"text/html; charset=utf-8\" http-equiv=\"Content-Type\"/>\n",
      "<meta content=\"IE=Edge,chrome=1\" http-equiv=\"X-UA-Compatible\"/>\n",
      "<meta content=\"noindex, nofollow\" name=\"robots\"/>\n",
      "<meta content=\"width=device-width,initial-scale=1\" name=\"viewport\"/>\n",
      "<link href=\"/cdn-cgi/styles/main.css\" id=\"cf_styles-css\" media=\"screen,projection\" rel=\"stylesheet\" type=\"text/css\"/>\n",
      "<script async=\"\" src=\"/cdn-cgi/bm/cv/669835187/api.js\"></script></head>\n",
      "<body>\n",
      "<div id=\"cf-wrapper\">\n",
      "<div class=\"cf-alert cf-alert-error cf-cookie-error hidden\" data-translate=\"enable_cookies\" id=\"cookie-alert\">Please enable cookies.</div>\n",
      "<div class=\"p-0\" id=\"cf-error-details\">\n",
      "<header class=\"mx-auto pt-10 lg:pt-6 lg:px-8 w-240 lg:w-full mb-15 antialiased\">\n",
      "<h1 class=\"inline-block md:block mr-2 md:mb-2 font-light text-60 md:text-3xl text-black-dark leading-tight\">\n",
      "<span data-translate=\"error\">Error</span>\n",
      "<span>1020</span>\n",
      "</h1>\n",
      "<span class=\"inline-block md:block heading-ray-id font-mono text-15 lg:text-sm lg:leading-relaxed\">Ray ID: 671c82a55aafff68 •</span>\n",
      "<span class=\"inline-block md:block heading-ray-id font-mono text-15 lg:text-sm lg:leading-relaxed\">2021-07-20 13:24:32 UTC</span>\n",
      "<h2 class=\"text-gray-600 leading-1.3 text-3xl lg:text-2xl font-light\">Access denied</h2>\n",
      "</header>\n",
      "<section class=\"w-240 lg:w-full mx-auto mb-8 lg:px-8\">\n",
      "<div class=\"w-1/2 md:w-full\" id=\"what-happened-section\">\n",
      "<h2 class=\"text-3xl leading-tight font-normal mb-4 text-black-dark antialiased\" data-translate=\"what_happened\">What happened?</h2>\n",
      "<p>This website is using a security service to protect itself from online attacks.</p>\n",
      "</div>\n",
      "</section>\n",
      "<div class=\"cf-error-footer cf-wrapper w-240 lg:w-full py-10 sm:py-4 sm:px-8 mx-auto text-center sm:text-left border-solid border-0 border-t border-gray-300\">\n",
      "<p class=\"text-13\">\n",
      "<span class=\"cf-footer-item sm:block sm:mb-1\">Cloudflare Ray ID: <strong class=\"font-semibold\">671c82a55aafff68</strong></span>\n",
      "<span class=\"cf-footer-separator sm:hidden\">•</span>\n",
      "<span class=\"cf-footer-item sm:block sm:mb-1\"><span>Your IP</span>: 185.90.211.162</span>\n",
      "<span class=\"cf-footer-separator sm:hidden\">•</span>\n",
      "<span class=\"cf-footer-item sm:block sm:mb-1\"><span>Performance &amp; security by</span> <a href=\"https://www.cloudflare.com/5xx-error-landing\" id=\"brand_link\" rel=\"noopener noreferrer\" target=\"_blank\">Cloudflare</a></span>\n",
      "</p>\n",
      "</div><!-- /.error-footer -->\n",
      "</div><!-- /#cf-error-details -->\n",
      "</div><!-- /#cf-wrapper -->\n",
      "<script type=\"text/javascript\">\n",
      "  window._cf_translation = {};\n",
      "  \n",
      "  \n",
      "</script>\n",
      "<script type=\"text/javascript\">(function(){window['__CF$cv$params']={r:'671c82a55aafff68',m:'226455d222c650b569f25094b895f43fac97d53b-1626787472-1800-AY/oHsGSwtbaVED2T6GX/dhBefz+B0FTqgHAEaE63b/yUuTDNygh64IApzuKqqJL56ry+2sOobNPZSr97oVcUXUXd6zHZEOv/HxwqDPVRfocQBxyuWqKbE4sVTylO2Zu4Hay7pfBgEUMgBnrAhWN8F8=',s:[0x5475a5077f,0x786e7d3fbf],}})();</script></body>\n",
      "</html>\n",
      "\n"
     ]
    }
   ],
   "metadata": {}
  },
  {
   "cell_type": "code",
   "execution_count": null,
   "source": [],
   "outputs": [],
   "metadata": {}
  }
 ]
}